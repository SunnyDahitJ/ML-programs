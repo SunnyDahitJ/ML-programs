{
  "nbformat": 4,
  "nbformat_minor": 0,
  "metadata": {
    "colab": {
      "name": "lab_6(decision tree)_ml.ipynb",
      "provenance": [],
      "authorship_tag": "ABX9TyOBmEs34kxyLbV3JchY+NQA",
      "include_colab_link": true
    },
    "kernelspec": {
      "name": "python3",
      "display_name": "Python 3"
    },
    "language_info": {
      "name": "python"
    }
  },
  "cells": [
    {
      "cell_type": "markdown",
      "metadata": {
        "id": "view-in-github",
        "colab_type": "text"
      },
      "source": [
        "<a href=\"https://colab.research.google.com/github/SunnyDahitJ/ML-programs/blob/main/lab_6(decision_tree)_ml.ipynb\" target=\"_parent\"><img src=\"https://colab.research.google.com/assets/colab-badge.svg\" alt=\"Open In Colab\"/></a>"
      ]
    },
    {
      "cell_type": "code",
      "execution_count": 41,
      "metadata": {
        "id": "KCVGCCkYctpn"
      },
      "outputs": [],
      "source": [
        "from sklearn.model_selection import train_test_split\n",
        "import numpy as np\n",
        "import pandas as pd\n",
        "# import matplotlib.pyplot as plt\n",
        "# import seaborn as sns\n"
      ]
    },
    {
      "cell_type": "code",
      "source": [
        "from posixpath import split\n",
        "from sklearn.preprocessing import LabelEncoder\n",
        "le = LabelEncoder()\n",
        "\n",
        "df = pd.read_csv(\"Crop_recommendation.csv\")\n",
        "df = df[:200]\n",
        "\n",
        "# df[\"N\"] = le.fit_transform(df[\"N\"])\n",
        "# df[\"P\"] = le.fit_transform(df[\"P\"])\n",
        "# df[\"K\"] = le.fit_transform(df[\"K\"])\n",
        "\n",
        "df[\"label\"]=le.fit_transform(df[\"label\"])\n",
        "df[\"label\"]\n",
        "\n",
        "y = df[\"label\"]\n",
        "x = df.drop(\"label\", axis=1) \n",
        "\n",
        "\n",
        "\n",
        "X_train, X_test, y_train ,y_test = train_test_split(x,y,test_size =0.3, shuffle= True)"
      ],
      "metadata": {
        "id": "ErTxEvaQMoWl"
      },
      "execution_count": 38,
      "outputs": []
    },
    {
      "cell_type": "code",
      "source": [
        "from sklearn.tree import DecisionTreeClassifier\n",
        "dtree = DecisionTreeClassifier(criterion=\"entropy\")\n",
        "dtree.fit(X_train, y_train)\n",
        "\n",
        "prediction = dtree.predict(X_test)\n",
        "\n",
        "\n"
      ],
      "metadata": {
        "colab": {
          "base_uri": "https://localhost:8080/"
        },
        "id": "Wu4dO0lnfaeH",
        "outputId": "7eec2659-9c82-4a3d-a267-9070a4297a6b"
      },
      "execution_count": 42,
      "outputs": [
        {
          "output_type": "stream",
          "name": "stdout",
          "text": [
            "DecisionTreeClassifier(criterion='entropy')\n"
          ]
        }
      ]
    },
    {
      "cell_type": "code",
      "source": [
        "from sklearn.metrics import accuracy_score, classification_report, confusion_matrix\n",
        "\n",
        "print(f\"Accuracy : {accuracy_score(y_test, prediction)}\\n\")\n",
        "classification_report(y_test, prediction)\n",
        "\n",
        "\n",
        "print(confusion_matrix(y_test,prediction))"
      ],
      "metadata": {
        "colab": {
          "base_uri": "https://localhost:8080/"
        },
        "id": "_a4WHQgPPKm4",
        "outputId": "0efadf7d-813a-49cc-c1a3-7461b190d59b"
      },
      "execution_count": 40,
      "outputs": [
        {
          "output_type": "stream",
          "name": "stdout",
          "text": [
            "Accuracy : 1.0\n",
            "\n",
            "[[31  0]\n",
            " [ 0 29]]\n"
          ]
        }
      ]
    },
    {
      "cell_type": "markdown",
      "source": [],
      "metadata": {
        "id": "bFirYJgkPhAT"
      }
    }
  ]
}