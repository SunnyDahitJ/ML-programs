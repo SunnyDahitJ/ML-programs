{
  "nbformat": 4,
  "nbformat_minor": 0,
  "metadata": {
    "colab": {
      "provenance": [],
      "include_colab_link": true
    },
    "kernelspec": {
      "name": "python3",
      "display_name": "Python 3"
    },
    "language_info": {
      "name": "python"
    }
  },
  "cells": [
    {
      "cell_type": "markdown",
      "metadata": {
        "id": "view-in-github",
        "colab_type": "text"
      },
      "source": [
        "<a href=\"https://colab.research.google.com/github/SunnyDahitJ/ML-programs/blob/main/lab_9.ipynb\" target=\"_parent\"><img src=\"https://colab.research.google.com/assets/colab-badge.svg\" alt=\"Open In Colab\"/></a>"
      ]
    },
    {
      "cell_type": "code",
      "execution_count": null,
      "metadata": {
        "id": "s-GaAxr9KxHl"
      },
      "outputs": [],
      "source": [
        "import numpy as np\n",
        "inputLayerNeurons, hiddenLayerNeurons, outputLayerNeurons = 2,2,1\n",
        "hidden_weights = np.random.uniform(size=(inputLayerNeurons,hiddenLayerNeurons))\n",
        "hidden_bias =np.random.uniform(size=(1,hiddenLayerNeurons))\n",
        "output_weights = np.random.uniform(size=(hiddenLayerNeurons,outputLayerNeurons))\n",
        "output_bias = np.random.uniform(size=(1,outputLayerNeurons))"
      ]
    },
    {
      "cell_type": "code",
      "source": [
        "import numpy as np\n",
        "from keras.models import Sequential\n",
        "from keras.layers.core import Dense"
      ],
      "metadata": {
        "id": "0bQTPJHDLbgv"
      },
      "execution_count": null,
      "outputs": []
    },
    {
      "cell_type": "code",
      "source": [
        "\n",
        "\n",
        "training_data = np.array([[0,0],[0,1],[1,0],[1,1]], \"float32\")"
      ],
      "metadata": {
        "id": "qFKLHvR1L5dZ"
      },
      "execution_count": null,
      "outputs": []
    },
    {
      "cell_type": "code",
      "source": [
        "target_data = np.array([[0],[1],[1],[0]], \"float32\")"
      ],
      "metadata": {
        "id": "GbLphPDKMC7m"
      },
      "execution_count": null,
      "outputs": []
    },
    {
      "cell_type": "code",
      "source": [
        "model = Sequential()\n",
        "model.add(Dense(16, input_dim=2, \n",
        "                    activation='relu'))\n",
        "model.add(Dense(1, activation='sigmoid'))"
      ],
      "metadata": {
        "id": "XcgTDxzsMEou"
      },
      "execution_count": null,
      "outputs": []
    },
    {
      "cell_type": "code",
      "source": [
        "model.compile(loss='mean_squared_error',optimizer='adam',metrics=['binary_accuracy'])"
      ],
      "metadata": {
        "id": "kmZhVoteMNg8"
      },
      "execution_count": null,
      "outputs": []
    },
    {
      "cell_type": "code",
      "source": [
        "model.fit(training_data, target_data, epochs=100)"
      ],
      "metadata": {
        "colab": {
          "base_uri": "https://localhost:8080/"
        },
        "id": "1J_MwtoaMT8M",
        "outputId": "10992046-f51b-479a-bcc6-7186752e20c1"
      },
      "execution_count": null,
      "outputs": [
        {
          "output_type": "stream",
          "name": "stdout",
          "text": [
            "Epoch 1/100\n",
            "1/1 [==============================] - 1s 615ms/step - loss: 0.2734 - binary_accuracy: 0.5000\n",
            "Epoch 2/100\n",
            "1/1 [==============================] - 0s 9ms/step - loss: 0.2729 - binary_accuracy: 0.2500\n",
            "Epoch 3/100\n",
            "1/1 [==============================] - 0s 10ms/step - loss: 0.2724 - binary_accuracy: 0.5000\n",
            "Epoch 4/100\n",
            "1/1 [==============================] - 0s 7ms/step - loss: 0.2719 - binary_accuracy: 0.5000\n",
            "Epoch 5/100\n",
            "1/1 [==============================] - 0s 15ms/step - loss: 0.2714 - binary_accuracy: 0.5000\n",
            "Epoch 6/100\n",
            "1/1 [==============================] - 0s 9ms/step - loss: 0.2710 - binary_accuracy: 0.5000\n",
            "Epoch 7/100\n",
            "1/1 [==============================] - 0s 11ms/step - loss: 0.2706 - binary_accuracy: 0.5000\n",
            "Epoch 8/100\n",
            "1/1 [==============================] - 0s 9ms/step - loss: 0.2702 - binary_accuracy: 0.5000\n",
            "Epoch 9/100\n",
            "1/1 [==============================] - 0s 11ms/step - loss: 0.2698 - binary_accuracy: 0.5000\n",
            "Epoch 10/100\n",
            "1/1 [==============================] - 0s 10ms/step - loss: 0.2693 - binary_accuracy: 0.5000\n",
            "Epoch 11/100\n",
            "1/1 [==============================] - 0s 11ms/step - loss: 0.2689 - binary_accuracy: 0.5000\n",
            "Epoch 12/100\n",
            "1/1 [==============================] - 0s 6ms/step - loss: 0.2685 - binary_accuracy: 0.5000\n",
            "Epoch 13/100\n",
            "1/1 [==============================] - 0s 7ms/step - loss: 0.2681 - binary_accuracy: 0.5000\n",
            "Epoch 14/100\n",
            "1/1 [==============================] - 0s 11ms/step - loss: 0.2677 - binary_accuracy: 0.5000\n",
            "Epoch 15/100\n",
            "1/1 [==============================] - 0s 5ms/step - loss: 0.2673 - binary_accuracy: 0.5000\n",
            "Epoch 16/100\n",
            "1/1 [==============================] - 0s 9ms/step - loss: 0.2669 - binary_accuracy: 0.5000\n",
            "Epoch 17/100\n",
            "1/1 [==============================] - 0s 11ms/step - loss: 0.2665 - binary_accuracy: 0.5000\n",
            "Epoch 18/100\n",
            "1/1 [==============================] - 0s 12ms/step - loss: 0.2661 - binary_accuracy: 0.5000\n",
            "Epoch 19/100\n",
            "1/1 [==============================] - 0s 9ms/step - loss: 0.2657 - binary_accuracy: 0.5000\n",
            "Epoch 20/100\n",
            "1/1 [==============================] - 0s 7ms/step - loss: 0.2653 - binary_accuracy: 0.5000\n",
            "Epoch 21/100\n",
            "1/1 [==============================] - 0s 7ms/step - loss: 0.2649 - binary_accuracy: 0.5000\n",
            "Epoch 22/100\n",
            "1/1 [==============================] - 0s 8ms/step - loss: 0.2645 - binary_accuracy: 0.5000\n",
            "Epoch 23/100\n",
            "1/1 [==============================] - 0s 7ms/step - loss: 0.2641 - binary_accuracy: 0.5000\n",
            "Epoch 24/100\n",
            "1/1 [==============================] - 0s 7ms/step - loss: 0.2637 - binary_accuracy: 0.5000\n",
            "Epoch 25/100\n",
            "1/1 [==============================] - 0s 7ms/step - loss: 0.2634 - binary_accuracy: 0.5000\n",
            "Epoch 26/100\n",
            "1/1 [==============================] - 0s 7ms/step - loss: 0.2630 - binary_accuracy: 0.5000\n",
            "Epoch 27/100\n",
            "1/1 [==============================] - 0s 8ms/step - loss: 0.2626 - binary_accuracy: 0.5000\n",
            "Epoch 28/100\n",
            "1/1 [==============================] - 0s 7ms/step - loss: 0.2622 - binary_accuracy: 0.5000\n",
            "Epoch 29/100\n",
            "1/1 [==============================] - 0s 7ms/step - loss: 0.2619 - binary_accuracy: 0.5000\n",
            "Epoch 30/100\n",
            "1/1 [==============================] - 0s 7ms/step - loss: 0.2615 - binary_accuracy: 0.5000\n",
            "Epoch 31/100\n",
            "1/1 [==============================] - 0s 9ms/step - loss: 0.2611 - binary_accuracy: 0.5000\n",
            "Epoch 32/100\n",
            "1/1 [==============================] - 0s 9ms/step - loss: 0.2607 - binary_accuracy: 0.5000\n",
            "Epoch 33/100\n",
            "1/1 [==============================] - 0s 7ms/step - loss: 0.2604 - binary_accuracy: 0.5000\n",
            "Epoch 34/100\n",
            "1/1 [==============================] - 0s 7ms/step - loss: 0.2600 - binary_accuracy: 0.5000\n",
            "Epoch 35/100\n",
            "1/1 [==============================] - 0s 8ms/step - loss: 0.2597 - binary_accuracy: 0.5000\n",
            "Epoch 36/100\n",
            "1/1 [==============================] - 0s 6ms/step - loss: 0.2593 - binary_accuracy: 0.5000\n",
            "Epoch 37/100\n",
            "1/1 [==============================] - 0s 8ms/step - loss: 0.2589 - binary_accuracy: 0.5000\n",
            "Epoch 38/100\n",
            "1/1 [==============================] - 0s 7ms/step - loss: 0.2586 - binary_accuracy: 0.5000\n",
            "Epoch 39/100\n",
            "1/1 [==============================] - 0s 6ms/step - loss: 0.2582 - binary_accuracy: 0.5000\n",
            "Epoch 40/100\n",
            "1/1 [==============================] - 0s 7ms/step - loss: 0.2579 - binary_accuracy: 0.5000\n",
            "Epoch 41/100\n",
            "1/1 [==============================] - 0s 8ms/step - loss: 0.2575 - binary_accuracy: 0.5000\n",
            "Epoch 42/100\n",
            "1/1 [==============================] - 0s 6ms/step - loss: 0.2572 - binary_accuracy: 0.5000\n",
            "Epoch 43/100\n",
            "1/1 [==============================] - 0s 8ms/step - loss: 0.2568 - binary_accuracy: 0.5000\n",
            "Epoch 44/100\n",
            "1/1 [==============================] - 0s 6ms/step - loss: 0.2565 - binary_accuracy: 0.5000\n",
            "Epoch 45/100\n",
            "1/1 [==============================] - 0s 6ms/step - loss: 0.2561 - binary_accuracy: 0.5000\n",
            "Epoch 46/100\n",
            "1/1 [==============================] - 0s 6ms/step - loss: 0.2558 - binary_accuracy: 0.5000\n",
            "Epoch 47/100\n",
            "1/1 [==============================] - 0s 8ms/step - loss: 0.2555 - binary_accuracy: 0.5000\n",
            "Epoch 48/100\n",
            "1/1 [==============================] - 0s 8ms/step - loss: 0.2551 - binary_accuracy: 0.5000\n",
            "Epoch 49/100\n",
            "1/1 [==============================] - 0s 5ms/step - loss: 0.2548 - binary_accuracy: 0.5000\n",
            "Epoch 50/100\n",
            "1/1 [==============================] - 0s 6ms/step - loss: 0.2544 - binary_accuracy: 0.5000\n",
            "Epoch 51/100\n",
            "1/1 [==============================] - 0s 6ms/step - loss: 0.2541 - binary_accuracy: 0.5000\n",
            "Epoch 52/100\n",
            "1/1 [==============================] - 0s 7ms/step - loss: 0.2538 - binary_accuracy: 0.5000\n",
            "Epoch 53/100\n",
            "1/1 [==============================] - 0s 7ms/step - loss: 0.2534 - binary_accuracy: 0.5000\n",
            "Epoch 54/100\n",
            "1/1 [==============================] - 0s 7ms/step - loss: 0.2531 - binary_accuracy: 0.5000\n",
            "Epoch 55/100\n",
            "1/1 [==============================] - 0s 9ms/step - loss: 0.2528 - binary_accuracy: 0.5000\n",
            "Epoch 56/100\n",
            "1/1 [==============================] - 0s 6ms/step - loss: 0.2524 - binary_accuracy: 0.5000\n",
            "Epoch 57/100\n",
            "1/1 [==============================] - 0s 6ms/step - loss: 0.2521 - binary_accuracy: 0.5000\n",
            "Epoch 58/100\n",
            "1/1 [==============================] - 0s 9ms/step - loss: 0.2518 - binary_accuracy: 0.5000\n",
            "Epoch 59/100\n",
            "1/1 [==============================] - 0s 6ms/step - loss: 0.2515 - binary_accuracy: 0.5000\n",
            "Epoch 60/100\n",
            "1/1 [==============================] - 0s 9ms/step - loss: 0.2512 - binary_accuracy: 0.5000\n",
            "Epoch 61/100\n",
            "1/1 [==============================] - 0s 8ms/step - loss: 0.2508 - binary_accuracy: 0.5000\n",
            "Epoch 62/100\n",
            "1/1 [==============================] - 0s 8ms/step - loss: 0.2505 - binary_accuracy: 0.5000\n",
            "Epoch 63/100\n",
            "1/1 [==============================] - 0s 8ms/step - loss: 0.2502 - binary_accuracy: 0.5000\n",
            "Epoch 64/100\n",
            "1/1 [==============================] - 0s 9ms/step - loss: 0.2499 - binary_accuracy: 0.5000\n",
            "Epoch 65/100\n",
            "1/1 [==============================] - 0s 7ms/step - loss: 0.2496 - binary_accuracy: 0.5000\n",
            "Epoch 66/100\n",
            "1/1 [==============================] - 0s 11ms/step - loss: 0.2493 - binary_accuracy: 0.5000\n",
            "Epoch 67/100\n",
            "1/1 [==============================] - 0s 8ms/step - loss: 0.2490 - binary_accuracy: 0.5000\n",
            "Epoch 68/100\n",
            "1/1 [==============================] - 0s 8ms/step - loss: 0.2487 - binary_accuracy: 0.5000\n",
            "Epoch 69/100\n",
            "1/1 [==============================] - 0s 8ms/step - loss: 0.2484 - binary_accuracy: 0.5000\n",
            "Epoch 70/100\n",
            "1/1 [==============================] - 0s 9ms/step - loss: 0.2481 - binary_accuracy: 0.5000\n",
            "Epoch 71/100\n",
            "1/1 [==============================] - 0s 10ms/step - loss: 0.2478 - binary_accuracy: 0.5000\n",
            "Epoch 72/100\n",
            "1/1 [==============================] - 0s 7ms/step - loss: 0.2474 - binary_accuracy: 0.5000\n",
            "Epoch 73/100\n",
            "1/1 [==============================] - 0s 7ms/step - loss: 0.2471 - binary_accuracy: 0.5000\n",
            "Epoch 74/100\n",
            "1/1 [==============================] - 0s 8ms/step - loss: 0.2468 - binary_accuracy: 0.5000\n",
            "Epoch 75/100\n",
            "1/1 [==============================] - 0s 7ms/step - loss: 0.2465 - binary_accuracy: 0.5000\n",
            "Epoch 76/100\n",
            "1/1 [==============================] - 0s 9ms/step - loss: 0.2462 - binary_accuracy: 0.5000\n",
            "Epoch 77/100\n",
            "1/1 [==============================] - 0s 6ms/step - loss: 0.2459 - binary_accuracy: 0.5000\n",
            "Epoch 78/100\n",
            "1/1 [==============================] - 0s 7ms/step - loss: 0.2456 - binary_accuracy: 0.5000\n",
            "Epoch 79/100\n",
            "1/1 [==============================] - 0s 7ms/step - loss: 0.2453 - binary_accuracy: 0.5000\n",
            "Epoch 80/100\n",
            "1/1 [==============================] - 0s 8ms/step - loss: 0.2450 - binary_accuracy: 0.5000\n",
            "Epoch 81/100\n",
            "1/1 [==============================] - 0s 9ms/step - loss: 0.2447 - binary_accuracy: 0.5000\n",
            "Epoch 82/100\n",
            "1/1 [==============================] - 0s 9ms/step - loss: 0.2444 - binary_accuracy: 0.5000\n",
            "Epoch 83/100\n",
            "1/1 [==============================] - 0s 8ms/step - loss: 0.2441 - binary_accuracy: 0.5000\n",
            "Epoch 84/100\n",
            "1/1 [==============================] - 0s 9ms/step - loss: 0.2438 - binary_accuracy: 0.5000\n",
            "Epoch 85/100\n",
            "1/1 [==============================] - 0s 7ms/step - loss: 0.2435 - binary_accuracy: 0.5000\n",
            "Epoch 86/100\n",
            "1/1 [==============================] - 0s 7ms/step - loss: 0.2432 - binary_accuracy: 0.5000\n",
            "Epoch 87/100\n",
            "1/1 [==============================] - 0s 8ms/step - loss: 0.2429 - binary_accuracy: 0.5000\n",
            "Epoch 88/100\n",
            "1/1 [==============================] - 0s 7ms/step - loss: 0.2426 - binary_accuracy: 0.5000\n",
            "Epoch 89/100\n",
            "1/1 [==============================] - 0s 9ms/step - loss: 0.2424 - binary_accuracy: 0.7500\n",
            "Epoch 90/100\n",
            "1/1 [==============================] - 0s 9ms/step - loss: 0.2421 - binary_accuracy: 1.0000\n",
            "Epoch 91/100\n",
            "1/1 [==============================] - 0s 11ms/step - loss: 0.2418 - binary_accuracy: 1.0000\n",
            "Epoch 92/100\n",
            "1/1 [==============================] - 0s 10ms/step - loss: 0.2415 - binary_accuracy: 1.0000\n",
            "Epoch 93/100\n",
            "1/1 [==============================] - 0s 7ms/step - loss: 0.2412 - binary_accuracy: 1.0000\n",
            "Epoch 94/100\n",
            "1/1 [==============================] - 0s 6ms/step - loss: 0.2409 - binary_accuracy: 1.0000\n",
            "Epoch 95/100\n",
            "1/1 [==============================] - 0s 7ms/step - loss: 0.2406 - binary_accuracy: 1.0000\n",
            "Epoch 96/100\n",
            "1/1 [==============================] - 0s 7ms/step - loss: 0.2403 - binary_accuracy: 1.0000\n",
            "Epoch 97/100\n",
            "1/1 [==============================] - 0s 8ms/step - loss: 0.2400 - binary_accuracy: 1.0000\n",
            "Epoch 98/100\n",
            "1/1 [==============================] - 0s 11ms/step - loss: 0.2397 - binary_accuracy: 1.0000\n",
            "Epoch 99/100\n",
            "1/1 [==============================] - 0s 9ms/step - loss: 0.2394 - binary_accuracy: 1.0000\n",
            "Epoch 100/100\n",
            "1/1 [==============================] - 0s 7ms/step - loss: 0.2392 - binary_accuracy: 1.0000\n"
          ]
        },
        {
          "output_type": "execute_result",
          "data": {
            "text/plain": [
              "<keras.callbacks.History at 0x7facdc794290>"
            ]
          },
          "metadata": {},
          "execution_count": 7
        }
      ]
    },
    {
      "cell_type": "code",
      "source": [
        "scores = model.evaluate(training_data, target_data)\n",
        "print(\"\\n%s: %.2f%%\" % (model.metrics_names[1], scores[1]*100))"
      ],
      "metadata": {
        "colab": {
          "base_uri": "https://localhost:8080/"
        },
        "id": "sf9jR4vhMhkm",
        "outputId": "ccd95fce-a84f-41ad-d8d9-d34694a61c79"
      },
      "execution_count": null,
      "outputs": [
        {
          "output_type": "stream",
          "name": "stdout",
          "text": [
            "1/1 [==============================] - 0s 339ms/step - loss: 0.2389 - binary_accuracy: 1.0000\n",
            "\n",
            "binary_accuracy: 100.00%\n"
          ]
        }
      ]
    },
    {
      "cell_type": "code",
      "source": [
        "print (model.predict(training_data).round())"
      ],
      "metadata": {
        "colab": {
          "base_uri": "https://localhost:8080/"
        },
        "id": "CIAJbDzuMjrK",
        "outputId": "e4a11e69-88a1-46ae-8952-f22bf8c3d81d"
      },
      "execution_count": null,
      "outputs": [
        {
          "output_type": "stream",
          "name": "stdout",
          "text": [
            "[[0.]\n",
            " [1.]\n",
            " [1.]\n",
            " [0.]]\n"
          ]
        }
      ]
    }
  ]
}