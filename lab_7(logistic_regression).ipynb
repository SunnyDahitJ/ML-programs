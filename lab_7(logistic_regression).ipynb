{
  "nbformat": 4,
  "nbformat_minor": 0,
  "metadata": {
    "colab": {
      "provenance": [],
      "collapsed_sections": [],
      "authorship_tag": "ABX9TyPHFbXU0Su2S809lIIR8Cx0",
      "include_colab_link": true
    },
    "kernelspec": {
      "name": "python3",
      "display_name": "Python 3"
    },
    "language_info": {
      "name": "python"
    }
  },
  "cells": [
    {
      "cell_type": "markdown",
      "metadata": {
        "id": "view-in-github",
        "colab_type": "text"
      },
      "source": [
        "<a href=\"https://colab.research.google.com/github/SunnyDahitJ/ML-programs/blob/main/lab_7(logistic_regression).ipynb\" target=\"_parent\"><img src=\"https://colab.research.google.com/assets/colab-badge.svg\" alt=\"Open In Colab\"/></a>"
      ]
    },
    {
      "cell_type": "markdown",
      "source": [
        "#Logistic regression is a supervised learning classification algorithm"
      ],
      "metadata": {
        "id": "QJyS8p6DwLd0"
      }
    },
    {
      "cell_type": "code",
      "execution_count": 41,
      "metadata": {
        "id": "zShynDlMu71q",
        "colab": {
          "base_uri": "https://localhost:8080/"
        },
        "outputId": "d07b13c7-d849-483d-b377-a35a0da202aa"
      },
      "outputs": [
        {
          "output_type": "stream",
          "name": "stdout",
          "text": [
            "User ID            400\n",
            "Gender             400\n",
            "Age                400\n",
            "EstimatedSalary    400\n",
            "Purchased          400\n",
            "dtype: int64\n"
          ]
        }
      ],
      "source": [
        "import pandas as pd\n",
        "from sklearn.preprocessing import LabelEncoder\n",
        "\n",
        "df =pd.read_csv(\"Social_Network_Ads.csv\")\n",
        "le = LabelEncoder()\n",
        "print(df.count())\n",
        "df[\"Gender\"]= le.fit_transform(df[\"Gender\"])\n",
        "x = df.iloc[:,:4]\n",
        "y = df.iloc[:,4:5]\n",
        "\n",
        "# df= pd.read_csv(\"Crop_recommendation.csv\")\n",
        "# df = df[:200]\n",
        "# feature = df.iloc[: , :7]\n",
        "# feature\n",
        "# target = df.iloc[:, 7:8]\n",
        "# # target\n",
        "# df.describe()\n",
        "\n",
        "# df. "
      ]
    },
    {
      "cell_type": "code",
      "source": [
        "from sklearn.model_selection import train_test_split\n",
        "\n",
        "X_train, X_test, y_train, y_test = train_test_split(x, y,test_size =.30,random_state=20, shuffle = True)\n",
        "\n",
        "\n",
        "# X_train, X_test, y_train, y_test = train_test_split(feature, target, test_size=0.30,random_state=20, shuffle=True)"
      ],
      "metadata": {
        "id": "9RLQoP-7xqYJ"
      },
      "execution_count": 42,
      "outputs": []
    },
    {
      "cell_type": "code",
      "source": [
        "from sklearn.linear_model import LogisticRegression \n",
        "\n",
        "l_model = LogisticRegression()\n",
        "l_model.fit(X_train, y_train)\n",
        "\n",
        "Pred = l_model.predict(X_test)\n",
        "\n",
        "# model = LogisticRegression()\n",
        "# model.fit(X_train, y_train)\n",
        "\n",
        "# prediction = model.predict(X_test)\n",
        "# print(prediction)\n",
        "\n",
        "from sklearn.metrics import classification_report, accuracy_score, confusion_matrix\n",
        "\n",
        "print(f\"Accuracy of the algo is  : {accuracy_score(y_test, Pred)}\")\n",
        "\n",
        "print(f\"Classification report is  : {classification_report( y_test,Pred)}\")\n",
        "\n",
        "print(f\"{confusion_matrix(y_test,Pred)}\")\n",
        "\n",
        "# print(accuracy_score( y_test, prediction))\n",
        "# print(classification_report(prediction, y_test))\n",
        "\n",
        "# print(f\"{confusion_matrix(y_test,prediction)}\")"
      ],
      "metadata": {
        "colab": {
          "base_uri": "https://localhost:8080/"
        },
        "id": "8M0_nBqpzPYp",
        "outputId": "f7fb3c72-90d7-48c9-dd8e-bb32ec6fcff0"
      },
      "execution_count": 43,
      "outputs": [
        {
          "output_type": "stream",
          "name": "stdout",
          "text": [
            "Accuracy of the algo is  : 0.7583333333333333\n",
            "Classification report is  :               precision    recall  f1-score   support\n",
            "\n",
            "           0       0.72      0.97      0.82        70\n",
            "           1       0.92      0.46      0.61        50\n",
            "\n",
            "    accuracy                           0.76       120\n",
            "   macro avg       0.82      0.72      0.72       120\n",
            "weighted avg       0.80      0.76      0.74       120\n",
            "\n",
            "[[68  2]\n",
            " [27 23]]\n"
          ]
        },
        {
          "output_type": "stream",
          "name": "stderr",
          "text": [
            "/usr/local/lib/python3.7/dist-packages/sklearn/utils/validation.py:993: DataConversionWarning: A column-vector y was passed when a 1d array was expected. Please change the shape of y to (n_samples, ), for example using ravel().\n",
            "  y = column_or_1d(y, warn=True)\n"
          ]
        }
      ]
    },
    {
      "cell_type": "code",
      "source": [
        "# import seaborn as sns\n",
        "from sklearn import metrics\n",
        "import matplotlib.pyplot as plt\n",
        "\n",
        "y_pred_proba = l_model.predict_proba(X_test)[::,1]\n",
        "fpr, tpr, _ = metrics.roc_curve(y_test, y_pred_proba)\n",
        "auc = metrics.roc_auc_score(y_test, y_pred_proba)\n",
        "plt.plot(fpr,tpr,label=\"data 1, auc=\"+str(auc))\n",
        "plt.legend(loc=4)\n",
        "plt.show()"
      ],
      "metadata": {
        "colab": {
          "base_uri": "https://localhost:8080/",
          "height": 265
        },
        "id": "gYJLlKBD8x-a",
        "outputId": "853df97c-2781-46f4-c5f7-4633dd628724"
      },
      "execution_count": 48,
      "outputs": [
        {
          "output_type": "display_data",
          "data": {
            "text/plain": [
              "<Figure size 432x288 with 1 Axes>"
            ],
            "image/png": "[encoded data removed]"
          },
          "metadata": {
            "needs_background": "light"
          }
        }
      ]
    }
  ]
}